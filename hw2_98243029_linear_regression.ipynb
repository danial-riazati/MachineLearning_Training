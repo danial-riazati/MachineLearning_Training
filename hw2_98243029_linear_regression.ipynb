{
  "cells": [
    {
      "cell_type": "markdown",
      "metadata": {
        "id": "view-in-github",
        "colab_type": "text"
      },
      "source": [
        "<a href=\"https://colab.research.google.com/github/danial-riazati/MachineLearning_Training/blob/master/hw2_98243029_linear_regression.ipynb\" target=\"_parent\"><img src=\"https://colab.research.google.com/assets/colab-badge.svg\" alt=\"Open In Colab\"/></a>"
      ]
    },
    {
      "cell_type": "markdown",
      "source": [
        "# **HW2 - Danial Riazati - 98243029**<br>\n",
        "# **Linear Regression using Gradient Descent Algorithm**"
      ],
      "metadata": {
        "id": "67SgTVbahEZS"
      }
    },
    {
      "cell_type": "markdown",
      "source": [
        "#Upload Train & Test CSV "
      ],
      "metadata": {
        "id": "U0RuytNabqpB"
      }
    },
    {
      "cell_type": "code",
      "execution_count": null,
      "metadata": {
        "colab": {
          "base_uri": "https://localhost:8080/",
          "height": 109
        },
        "id": "p_hSjVJ-9oks",
        "outputId": "ed6f3d98-34a7-446f-c7ae-25888870a909"
      },
      "outputs": [
        {
          "output_type": "display_data",
          "data": {
            "text/plain": [
              "<IPython.core.display.HTML object>"
            ],
            "text/html": [
              "\n",
              "     <input type=\"file\" id=\"files-c4b34ca4-173a-4613-b702-0eef35878658\" name=\"files[]\" multiple disabled\n",
              "        style=\"border:none\" />\n",
              "     <output id=\"result-c4b34ca4-173a-4613-b702-0eef35878658\">\n",
              "      Upload widget is only available when the cell has been executed in the\n",
              "      current browser session. Please rerun this cell to enable.\n",
              "      </output>\n",
              "      <script>// Copyright 2017 Google LLC\n",
              "//\n",
              "// Licensed under the Apache License, Version 2.0 (the \"License\");\n",
              "// you may not use this file except in compliance with the License.\n",
              "// You may obtain a copy of the License at\n",
              "//\n",
              "//      http://www.apache.org/licenses/LICENSE-2.0\n",
              "//\n",
              "// Unless required by applicable law or agreed to in writing, software\n",
              "// distributed under the License is distributed on an \"AS IS\" BASIS,\n",
              "// WITHOUT WARRANTIES OR CONDITIONS OF ANY KIND, either express or implied.\n",
              "// See the License for the specific language governing permissions and\n",
              "// limitations under the License.\n",
              "\n",
              "/**\n",
              " * @fileoverview Helpers for google.colab Python module.\n",
              " */\n",
              "(function(scope) {\n",
              "function span(text, styleAttributes = {}) {\n",
              "  const element = document.createElement('span');\n",
              "  element.textContent = text;\n",
              "  for (const key of Object.keys(styleAttributes)) {\n",
              "    element.style[key] = styleAttributes[key];\n",
              "  }\n",
              "  return element;\n",
              "}\n",
              "\n",
              "// Max number of bytes which will be uploaded at a time.\n",
              "const MAX_PAYLOAD_SIZE = 100 * 1024;\n",
              "\n",
              "function _uploadFiles(inputId, outputId) {\n",
              "  const steps = uploadFilesStep(inputId, outputId);\n",
              "  const outputElement = document.getElementById(outputId);\n",
              "  // Cache steps on the outputElement to make it available for the next call\n",
              "  // to uploadFilesContinue from Python.\n",
              "  outputElement.steps = steps;\n",
              "\n",
              "  return _uploadFilesContinue(outputId);\n",
              "}\n",
              "\n",
              "// This is roughly an async generator (not supported in the browser yet),\n",
              "// where there are multiple asynchronous steps and the Python side is going\n",
              "// to poll for completion of each step.\n",
              "// This uses a Promise to block the python side on completion of each step,\n",
              "// then passes the result of the previous step as the input to the next step.\n",
              "function _uploadFilesContinue(outputId) {\n",
              "  const outputElement = document.getElementById(outputId);\n",
              "  const steps = outputElement.steps;\n",
              "\n",
              "  const next = steps.next(outputElement.lastPromiseValue);\n",
              "  return Promise.resolve(next.value.promise).then((value) => {\n",
              "    // Cache the last promise value to make it available to the next\n",
              "    // step of the generator.\n",
              "    outputElement.lastPromiseValue = value;\n",
              "    return next.value.response;\n",
              "  });\n",
              "}\n",
              "\n",
              "/**\n",
              " * Generator function which is called between each async step of the upload\n",
              " * process.\n",
              " * @param {string} inputId Element ID of the input file picker element.\n",
              " * @param {string} outputId Element ID of the output display.\n",
              " * @return {!Iterable<!Object>} Iterable of next steps.\n",
              " */\n",
              "function* uploadFilesStep(inputId, outputId) {\n",
              "  const inputElement = document.getElementById(inputId);\n",
              "  inputElement.disabled = false;\n",
              "\n",
              "  const outputElement = document.getElementById(outputId);\n",
              "  outputElement.innerHTML = '';\n",
              "\n",
              "  const pickedPromise = new Promise((resolve) => {\n",
              "    inputElement.addEventListener('change', (e) => {\n",
              "      resolve(e.target.files);\n",
              "    });\n",
              "  });\n",
              "\n",
              "  const cancel = document.createElement('button');\n",
              "  inputElement.parentElement.appendChild(cancel);\n",
              "  cancel.textContent = 'Cancel upload';\n",
              "  const cancelPromise = new Promise((resolve) => {\n",
              "    cancel.onclick = () => {\n",
              "      resolve(null);\n",
              "    };\n",
              "  });\n",
              "\n",
              "  // Wait for the user to pick the files.\n",
              "  const files = yield {\n",
              "    promise: Promise.race([pickedPromise, cancelPromise]),\n",
              "    response: {\n",
              "      action: 'starting',\n",
              "    }\n",
              "  };\n",
              "\n",
              "  cancel.remove();\n",
              "\n",
              "  // Disable the input element since further picks are not allowed.\n",
              "  inputElement.disabled = true;\n",
              "\n",
              "  if (!files) {\n",
              "    return {\n",
              "      response: {\n",
              "        action: 'complete',\n",
              "      }\n",
              "    };\n",
              "  }\n",
              "\n",
              "  for (const file of files) {\n",
              "    const li = document.createElement('li');\n",
              "    li.append(span(file.name, {fontWeight: 'bold'}));\n",
              "    li.append(span(\n",
              "        `(${file.type || 'n/a'}) - ${file.size} bytes, ` +\n",
              "        `last modified: ${\n",
              "            file.lastModifiedDate ? file.lastModifiedDate.toLocaleDateString() :\n",
              "                                    'n/a'} - `));\n",
              "    const percent = span('0% done');\n",
              "    li.appendChild(percent);\n",
              "\n",
              "    outputElement.appendChild(li);\n",
              "\n",
              "    const fileDataPromise = new Promise((resolve) => {\n",
              "      const reader = new FileReader();\n",
              "      reader.onload = (e) => {\n",
              "        resolve(e.target.result);\n",
              "      };\n",
              "      reader.readAsArrayBuffer(file);\n",
              "    });\n",
              "    // Wait for the data to be ready.\n",
              "    let fileData = yield {\n",
              "      promise: fileDataPromise,\n",
              "      response: {\n",
              "        action: 'continue',\n",
              "      }\n",
              "    };\n",
              "\n",
              "    // Use a chunked sending to avoid message size limits. See b/62115660.\n",
              "    let position = 0;\n",
              "    do {\n",
              "      const length = Math.min(fileData.byteLength - position, MAX_PAYLOAD_SIZE);\n",
              "      const chunk = new Uint8Array(fileData, position, length);\n",
              "      position += length;\n",
              "\n",
              "      const base64 = btoa(String.fromCharCode.apply(null, chunk));\n",
              "      yield {\n",
              "        response: {\n",
              "          action: 'append',\n",
              "          file: file.name,\n",
              "          data: base64,\n",
              "        },\n",
              "      };\n",
              "\n",
              "      let percentDone = fileData.byteLength === 0 ?\n",
              "          100 :\n",
              "          Math.round((position / fileData.byteLength) * 100);\n",
              "      percent.textContent = `${percentDone}% done`;\n",
              "\n",
              "    } while (position < fileData.byteLength);\n",
              "  }\n",
              "\n",
              "  // All done.\n",
              "  yield {\n",
              "    response: {\n",
              "      action: 'complete',\n",
              "    }\n",
              "  };\n",
              "}\n",
              "\n",
              "scope.google = scope.google || {};\n",
              "scope.google.colab = scope.google.colab || {};\n",
              "scope.google.colab._files = {\n",
              "  _uploadFiles,\n",
              "  _uploadFilesContinue,\n",
              "};\n",
              "})(self);\n",
              "</script> "
            ]
          },
          "metadata": {}
        },
        {
          "output_type": "stream",
          "name": "stdout",
          "text": [
            "Saving test.csv to test (1).csv\n",
            "Saving train.csv to train (1).csv\n"
          ]
        }
      ],
      "source": [
        "import io\n",
        "import pandas as pd\n",
        "from google.colab import files\n",
        "uploaded = files.upload()\n",
        "train_data = pd.read_csv(io.BytesIO(uploaded['train.csv']))\n",
        "test_data = pd.read_csv(io.BytesIO(uploaded['test.csv']))"
      ]
    },
    {
      "cell_type": "markdown",
      "source": [
        "#Clear Data & Seprate X from Y"
      ],
      "metadata": {
        "id": "74N3J94Ab3WU"
      }
    },
    {
      "cell_type": "markdown",
      "source": [
        "Some field like city and model are mappad to a unique number for learning\n",
        "and some of theme like state and make are converted to 'one hot'. <br>\n",
        "We can't make one hot for all fields because of memory limitation (about 5000 columns be made by it). <br>\n",
        "At last Y and X are seprated."
      ],
      "metadata": {
        "id": "4APD12TOcs6n"
      }
    },
    {
      "cell_type": "code",
      "execution_count": null,
      "metadata": {
        "id": "uCrTS7vuDSmg"
      },
      "outputs": [],
      "source": [
        "def ClearData(data,test = False):\n",
        "    # mapped to a unique number.\n",
        "    city_df = pd.DataFrame({'City': data.City.unique(), 'City_id':range(len(data.City.unique()))})\n",
        "    model_df = pd.DataFrame({'Model': data.Model.unique(), 'Model_id':range(len(data.Model.unique()))})\n",
        "    \n",
        "    # one hot\n",
        "    one_hot_state = pd.get_dummies(data['State'],prefix='state_')\n",
        "    one_hot_make = pd.get_dummies(data['Make'],prefix='make_')\n",
        "\n",
        "    data = data.join(one_hot_state)\n",
        "    data = data.join(one_hot_make)\n",
        "    \n",
        "    data = data.merge(city_df, on='City', how='left')\n",
        "    data = data.merge(model_df, on='Model', how='left')\n",
        "\n",
        "    # X & Y\n",
        "    if(not test):\n",
        "        _y = data['Price'].to_numpy()\n",
        "        data.drop(['Price','City','Model','State','Make','Vin'], inplace=True, axis=1)\n",
        "        _x = data.to_numpy()\n",
        "        return _x,_y\n",
        "    \n",
        "    data.drop(['City','Model','State','Make','Vin','CarId'], inplace=True, axis=1)\n",
        "    _x = data.to_numpy()\n",
        "    return _x"
      ]
    },
    {
      "cell_type": "markdown",
      "source": [
        "# Normalize DataSet"
      ],
      "metadata": {
        "id": "tullbWtZewPq"
      }
    },
    {
      "cell_type": "markdown",
      "source": [
        "**2 steps:** <br>\n",
        "1- data of column['Mileage'] is rounded to learn better <br>\n",
        "2- all of data will normalize to (-1 , 1) to imporve the learning rate"
      ],
      "metadata": {
        "id": "TCv93BdNe9Ct"
      }
    },
    {
      "cell_type": "code",
      "source": [
        "def NormalizeData(data):\n",
        "    print(data[:,1])\n",
        "    data[:,1] = [round(i,-4) for i in data[:,1]]\n",
        "    print(data[:,1])\n",
        "    return (data - np.min(data)) / (np.max(data) - np.min(data))"
      ],
      "metadata": {
        "id": "KhpAd4yce2jO"
      },
      "execution_count": null,
      "outputs": []
    },
    {
      "cell_type": "markdown",
      "source": [
        "# Prediction"
      ],
      "metadata": {
        "id": "Nb66twb6g14s"
      }
    },
    {
      "cell_type": "markdown",
      "source": [
        "w : Predicted Weight <br>\n",
        "x : Features <br>\n",
        "b : Bias <br>\n",
        "\n",
        "Predict Y from these inputs"
      ],
      "metadata": {
        "id": "mNObFththCOy"
      }
    },
    {
      "cell_type": "code",
      "source": [
        "def Prediction(w,x,b):\n",
        "    length = len(x)\n",
        "    list =[]\n",
        "    for i in range(length):\n",
        "        # Do dot operation on all\n",
        "        dot = w@x[i]+b\n",
        "        list.append(dot)\n",
        "    return np.array(list)"
      ],
      "metadata": {
        "id": "u2WVbHAKg4iZ"
      },
      "execution_count": null,
      "outputs": []
    },
    {
      "cell_type": "markdown",
      "source": [
        "# Find Linear Loss from Y and Y_Prediction"
      ],
      "metadata": {
        "id": "Rp4qR6-5i-B-"
      }
    },
    {
      "cell_type": "code",
      "source": [
        "def Loss(y,y_predicted):\n",
        "    q=0\n",
        "    for i in range(len(y)):\n",
        "        q+=(y[i]-y_predicted[i])**2\n",
        "    return (1/len(y))*q"
      ],
      "metadata": {
        "id": "GGEXaKHRjGh2"
      },
      "execution_count": null,
      "outputs": []
    },
    {
      "cell_type": "markdown",
      "source": [
        "# dl / dw\n",
        "\n",
        "![image.png](data:image/png;base64,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)"
      ],
      "metadata": {
        "id": "wmthQUeEkZyE"
      }
    },
    {
      "cell_type": "code",
      "source": [
        "def Derivatives_W(x,y,p):\n",
        "    q=0\n",
        "    for i in range(len(y)):\n",
        "        q-=x[i]*(y[i]-p[i])\n",
        "    return (2/len(y))*q"
      ],
      "metadata": {
        "id": "0aV9eUrKk8Pw"
      },
      "execution_count": null,
      "outputs": []
    },
    {
      "cell_type": "markdown",
      "source": [
        "# dl / db\n",
        "![image.png](data:image/png;base64,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)\n",
        "\n"
      ],
      "metadata": {
        "id": "G6Iy9QZcmFWb"
      }
    },
    {
      "cell_type": "code",
      "source": [
        "def Derivatives_B(y,p):\n",
        "    q=0\n",
        "    for i in range(len(y)):\n",
        "        q-=(y[i]-p[i])\n",
        "    return (2/len(y)) * q"
      ],
      "metadata": {
        "id": "Z-FyoRL5mXxc"
      },
      "execution_count": null,
      "outputs": []
    },
    {
      "cell_type": "markdown",
      "source": [
        "# Learning"
      ],
      "metadata": {
        "id": "wYAOPK1GnCYI"
      }
    },
    {
      "cell_type": "markdown",
      "source": [
        "w : Weight Array that is random at init <br>\n",
        "b : Bias that is Zero at init <br>\n",
        "loss_arr : Loss array for Plot"
      ],
      "metadata": {
        "id": "IGsglGtfnusX"
      }
    },
    {
      "cell_type": "code",
      "source": [
        "import numpy as np\n",
        "import matplotlib.pyplot as plt\n",
        "def gradient_descent(x,y):\n",
        "    steps = 20\n",
        "    w = np.random.randn(x.shape[1])\n",
        "    b = 0\n",
        "    \n",
        "    loss_arr=[]\n",
        "    learning_rate = 0.1\n",
        "\n",
        "    for i in range(steps):\n",
        "        \n",
        "        print(i)\n",
        "        pr = Prediction(w,x,b)\n",
        "        \n",
        "        w = w - learning_rate * Derivatives_W(x,y,pr) \n",
        "        b = b - learning_rate * Derivatives_B(y,pr)\n",
        "        loss_arr.append(Loss(y,pr))\n",
        "        \n",
        "        print(loss_arr[i])\n",
        "    \n",
        "    plt.plot(np.arange(1,steps),loss_arr[1:])\n",
        "    plt.xlabel(\"number of steps\")\n",
        "    plt.ylabel(\"loss\")\n",
        "    plt.show()\n",
        "    \n",
        "    return w,b"
      ],
      "metadata": {
        "id": "Fp6v4-GMnCEQ"
      },
      "execution_count": null,
      "outputs": []
    },
    {
      "cell_type": "markdown",
      "source": [
        "**Train data and find Weight & Bias**"
      ],
      "metadata": {
        "id": "5dFBjBz-o_E3"
      }
    },
    {
      "cell_type": "code",
      "source": [
        "_x , _y = ClearData(train_data)\n",
        "new_x = NormalizeData(_x)  \n",
        "w,b = gradient_descent(new_x,_y)"
      ],
      "metadata": {
        "colab": {
          "base_uri": "https://localhost:8080/",
          "height": 1000
        },
        "id": "zcft-hsWo81a",
        "outputId": "dc521ecd-4a8b-45f6-b8de-e258148e7451"
      },
      "execution_count": null,
      "outputs": [
        {
          "output_type": "stream",
          "name": "stdout",
          "text": [
            "[ 73121  31800  40655 ... 112086  97638  37582]\n",
            "[ 70000  30000  40000 ... 110000 100000  40000]\n",
            "0\n",
            "636212289.2359779\n",
            "1\n",
            "471305962.48453903\n",
            "2\n",
            "365903476.4848537\n",
            "3\n",
            "298530788.384411\n",
            "4\n",
            "255463517.13109592\n",
            "5\n",
            "227930206.10681564\n",
            "6\n",
            "210324886.56657097\n",
            "7\n",
            "199064700.27469385\n",
            "8\n",
            "191859789.09442985\n",
            "9\n",
            "187246670.5359032\n",
            "10\n",
            "184290011.10959014\n",
            "11\n",
            "182392025.22884813\n",
            "12\n",
            "181170659.20592645\n",
            "13\n",
            "180381736.8270295\n",
            "14\n",
            "179869201.42828256\n",
            "15\n",
            "179533314.8643532\n",
            "16\n",
            "179310332.99503782\n",
            "17\n",
            "179159515.98564857\n",
            "18\n",
            "179054826.39620736\n",
            "19\n",
            "178979623.30648264\n"
          ]
        },
        {
          "output_type": "display_data",
          "data": {
            "text/plain": [
              "<Figure size 432x288 with 1 Axes>"
            ],
            "image/png": "[encoded data removed]"
          },
          "metadata": {
            "needs_background": "light"
          }
        }
      ]
    },
    {
      "cell_type": "markdown",
      "source": [
        "# Predict Test Price"
      ],
      "metadata": {
        "id": "f9YI7YSxqDQ3"
      }
    },
    {
      "cell_type": "code",
      "source": [
        "_x_test = ClearData(test_data,test= True)\n",
        "new_x_test = NormalizeData(_x_test)\n",
        "predicted = Prediction(w,new_x_test,b)\n",
        "predicted"
      ],
      "metadata": {
        "colab": {
          "base_uri": "https://localhost:8080/"
        },
        "id": "pb8ECQK_qH2S",
        "outputId": "8998b954-cebd-41d4-94f2-26a74f16ea93"
      },
      "execution_count": null,
      "outputs": [
        {
          "output_type": "stream",
          "name": "stdout",
          "text": [
            "[72740  5355 41454 ... 27424  1912 28835]\n",
            "[70000 10000 40000 ... 30000     0 30000]\n"
          ]
        },
        {
          "output_type": "execute_result",
          "data": {
            "text/plain": [
              "array([21134.49639036, 21125.58733484, 21130.04194171, ...,\n",
              "       21128.5634667 , 21124.10652563, 21128.5714727 ])"
            ]
          },
          "metadata": {},
          "execution_count": 16
        }
      ]
    },
    {
      "cell_type": "markdown",
      "source": [
        "**Save to Output file**"
      ],
      "metadata": {
        "id": "CsE3-3acqYhd"
      }
    },
    {
      "cell_type": "code",
      "source": [
        "# import csv\n",
        "# with open('/Users/danial/Desktop/output_test.csv', 'w') as file:\n",
        "#     num = 0\n",
        "#     writer = csv.writer(file)\n",
        "#     writer.writerow(['CarId','Price'])\n",
        "#     for i in predicted :\n",
        "#         writer.writerow([num,i])\n",
        "#         num +=1\n"
      ],
      "metadata": {
        "id": "eH1JV_PDqYOf"
      },
      "execution_count": null,
      "outputs": []
    }
  ],
  "metadata": {
    "accelerator": "GPU",
    "colab": {
      "provenance": [],
      "authorship_tag": "ABX9TyMVNhOI2jF7YTukMhHDYajd",
      "include_colab_link": true
    },
    "gpuClass": "standard",
    "kernelspec": {
      "display_name": "Python 3",
      "name": "python3"
    },
    "language_info": {
      "name": "python"
    }
  },
  "nbformat": 4,
  "nbformat_minor": 0
}